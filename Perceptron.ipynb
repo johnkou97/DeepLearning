{
 "cells": [
  {
   "cell_type": "markdown",
   "metadata": {},
   "source": [
    "# Implement a multi-class perceptron algorithm"
   ]
  },
  {
   "cell_type": "code",
   "execution_count": 1,
   "metadata": {
    "cell_id": "7dd7138ad32841aa9f44b2ffe9b3f0f0",
    "deepnote_cell_type": "code",
    "deepnote_to_be_reexecuted": false,
    "execution_millis": 1,
    "execution_start": 1665149037133,
    "source_hash": "c3a46b09",
    "tags": []
   },
   "outputs": [],
   "source": [
    "import numpy as np\n",
    "import matplotlib.pyplot as plt\n",
    "from sklearn.metrics import confusion_matrix\n",
    "import pandas as pd\n",
    "import time\n"
   ]
  },
  {
   "cell_type": "markdown",
   "metadata": {},
   "source": [
    "Initializing the weights with a RandomState to make the code reproducible"
   ]
  },
  {
   "cell_type": "code",
   "execution_count": 2,
   "metadata": {},
   "outputs": [],
   "source": [
    "R = np.random.RandomState(21)               \n",
    "weights_init=R.normal(0, 5, (257, 10))     "
   ]
  },
  {
   "cell_type": "code",
   "execution_count": 3,
   "metadata": {},
   "outputs": [
    {
     "data": {
      "text/plain": [
       "(257, 10)"
      ]
     },
     "execution_count": 3,
     "metadata": {},
     "output_type": "execute_result"
    }
   ],
   "source": [
    "weights_init.shape"
   ]
  },
  {
   "cell_type": "markdown",
   "metadata": {},
   "source": [
    "Reading the data"
   ]
  },
  {
   "cell_type": "code",
   "execution_count": 4,
   "metadata": {
    "cell_id": "2d2e7574b77846f898df42dd8124db29",
    "deepnote_cell_type": "code",
    "deepnote_to_be_reexecuted": false,
    "execution_millis": 543,
    "execution_start": 1665144647021,
    "source_hash": "191b56fa",
    "tags": []
   },
   "outputs": [],
   "source": [
    "train_in=np.genfromtxt('data/train_in.csv',delimiter=',')\n",
    "train_out=np.genfromtxt('data/train_out.csv',delimiter=',')\n",
    "test_in=np.genfromtxt('data/test_in.csv',delimiter=',')\n",
    "test_out=np.genfromtxt('data/test_out.csv',delimiter=',')"
   ]
  },
  {
   "cell_type": "markdown",
   "metadata": {},
   "source": [
    "Defining a function to create an array of the predictions for any dataset"
   ]
  },
  {
   "cell_type": "code",
   "execution_count": 5,
   "metadata": {
    "cell_id": "c51ba5bd4257467fa2eb2c9e4f4f8352",
    "deepnote_cell_type": "code",
    "deepnote_to_be_reexecuted": false,
    "execution_millis": 13,
    "execution_start": 1665144640305,
    "source_hash": "20d588c9",
    "tags": []
   },
   "outputs": [],
   "source": [
    "def predictions(data,W):\n",
    "    result=np.empty(len(data))\n",
    "    for i , dat in enumerate(data):\n",
    "        dat = np.append(dat, 1)    #adding the bias\n",
    "        out = dat.dot(W)           #calulating the output\n",
    "        result[i] = np.argmax(out) #getting the prediction by finding for which digit is the greatest output value\n",
    "    \n",
    "    return result\n",
    "        "
   ]
  },
  {
   "cell_type": "markdown",
   "metadata": {},
   "source": [
    "Defining a function to give us the percentage of the correct predictions <br>\n",
    "This function calls the previous one in order to create the prediction array out from the dataset and then compares it with the output"
   ]
  },
  {
   "cell_type": "code",
   "execution_count": 6,
   "metadata": {
    "cell_id": "f59d1566c719450289a423c930fee2d6",
    "deepnote_cell_type": "code",
    "deepnote_to_be_reexecuted": false,
    "execution_millis": 2,
    "execution_start": 1665144862097,
    "source_hash": "68173c8a",
    "tags": []
   },
   "outputs": [],
   "source": [
    "def correct_percentage(data_in,data_out,weights):\n",
    "    pred_test=predictions(data_in,weights) #getting the prediction using the predictions function\n",
    "    correct = 0     \n",
    "    for i in range(len(data_out)):\n",
    "        if pred_test[i] == data_out[i]:    #checking if the prediction corresponds with the correct output\n",
    "            correct += 1\n",
    "    return correct/(len(data_out))         #return the number of correctly classified cases over the total"
   ]
  },
  {
   "cell_type": "markdown",
   "metadata": {},
   "source": [
    "## Training the perceptron"
   ]
  },
  {
   "cell_type": "markdown",
   "metadata": {},
   "source": [
    "### Using the whole traing dataset at once"
   ]
  },
  {
   "cell_type": "code",
   "execution_count": 7,
   "metadata": {
    "allow_embed": false,
    "cell_id": "ab1bf84403e14f6d84fbce9b815923a9",
    "deepnote_cell_type": "code",
    "deepnote_to_be_reexecuted": false,
    "execution_millis": 14708,
    "execution_start": 1665150053087,
    "source_hash": "33254b1f",
    "tags": []
   },
   "outputs": [
    {
     "name": "stderr",
     "output_type": "stream",
     "text": [
      "/home/ioannis/miniconda3/envs/IDL/lib/python3.7/site-packages/ipykernel_launcher.py:8: RuntimeWarning: overflow encountered in exp\n",
      "  \n"
     ]
    },
    {
     "name": "stdout",
     "output_type": "stream",
     "text": [
      "Training time: 5.222 seconds\n"
     ]
    }
   ],
   "source": [
    "t0=time.time()\n",
    "# get the the output of the network by taking the dot of matrices W(eights) and T(rain).\n",
    "\n",
    "eta = 0.2                 #learning rate\n",
    "W = np.copy(weights_init) #initialize the weigts\n",
    "T = np.array([np.append(row, 1) for row in train_in]) #create a matrix of the whole training set\n",
    "\n",
    "sigmoid = lambda x: 1/(1+np.exp(-x))  #activation function\n",
    "\n",
    "best_W = W  #use this to keep track of the best weights\n",
    "accuracy = correct_percentage(train_in,train_out,W) #keep track of the accuracy of the above weights\n",
    "best_accuracy = accuracy\n",
    "\n",
    "# Counter for stopping condition (many runs without new record accuracy -> stop training)\n",
    "consecutive_without_improvement = 0\n",
    "\n",
    "accuracy_whole=[]\n",
    "accuracy_whole_test=[]\n",
    "\n",
    "while consecutive_without_improvement < 15 and accuracy< 1.0 :\n",
    "    outs = sigmoid(np.dot(T, W))  #the dot product of the inputs with weights and then the activation function\n",
    "                                  #is applied\n",
    "    #d_outs = outs * (1-outs)\n",
    "\n",
    "    ds = np.zeros((1707,10))                     #create an array of the correct outputs \n",
    "    for j, train_sample in enumerate(train_out):\n",
    "        ds[j][int(train_sample)] = 1\n",
    "    \n",
    "    errors = ds - outs                        #calculate the difference between the correct and predicted output\n",
    "    products = errors#*d_outs                 #multiply with the derivative, it is left out because it doesn't work\n",
    "    delta_W = eta * np.dot(T.T, products)     #calculate the delta W using the neuron learning rule\n",
    "    \n",
    "    W += delta_W\n",
    "\n",
    "    accuracy = correct_percentage(train_in,train_out,W)\n",
    "    accuracy_whole.append(accuracy)      #saving the accuracy of the training set for plotting\n",
    "    accuracy_whole_test.append(correct_percentage(test_in,test_out,W)) #saving the accuracy of the testing set \n",
    "                                                                        #only for plotting, we can't use that \n",
    "                                                                        #because we don't have access to the \n",
    "                                                                        #testing set while training\n",
    "    \n",
    "\n",
    "    if (accuracy > best_accuracy):\n",
    "        best_W = np.copy(W)  #keeping the weights that give the best accuracy over the training set\n",
    "        best_accuracy = accuracy  #keeping the best accuracy to compare it with the new ones\n",
    "        consecutive_without_improvement = 0  #resetting the number of consecutive loops without improvement\n",
    "        \n",
    "    else:\n",
    "        consecutive_without_improvement += 1 #increase the number of consecutive without improvement if accuracy \n",
    "                                             #isn't better than the best accuracy\n",
    "        \n",
    "if consecutive_without_improvement > 0:                          #delete the elements after the one with  \n",
    "    del accuracy_whole[-consecutive_without_improvement:]        #the best accuracy\n",
    "    del accuracy_whole_test[-consecutive_without_improvement:]\n",
    "                          \n",
    "W_whole = best_W   #saving the best weights \n",
    "RunningTime_whole=time.time()-t0 #saving the training time\n",
    "print('Training time: %.3f seconds' %RunningTime_whole )\n",
    "    "
   ]
  },
  {
   "cell_type": "markdown",
   "metadata": {},
   "source": [
    "### Using each element one by one"
   ]
  },
  {
   "cell_type": "code",
   "execution_count": 8,
   "metadata": {
    "cell_id": "d2dd21d85d714381bd053f86405823dc",
    "deepnote_cell_type": "code",
    "deepnote_to_be_reexecuted": false,
    "execution_millis": 4914,
    "execution_start": 1665150016780,
    "source_hash": "d01fdd2",
    "tags": []
   },
   "outputs": [
    {
     "name": "stdout",
     "output_type": "stream",
     "text": [
      "Training time: 9.639 seconds\n"
     ]
    }
   ],
   "source": [
    "t0=time.time()\n",
    "\n",
    "eta = 0.2  #learning rate\n",
    "W = np.copy(weights_init) #initialize the weights\n",
    "g = lambda a: 1/(1+np.exp(-a)) #define our activation function which is a sigmoid\n",
    "\n",
    "\n",
    "best_W = W  #use this to keep track of the best weights\n",
    "accuracy = correct_percentage(train_in,train_out,W) #keep track of the accuracy of the above weights\n",
    "best_accuracy = accuracy\n",
    "\n",
    "# Counter for stopping condition (many runs without new record accuracy -> stop training)\n",
    "consecutive_without_improvement = 0\n",
    "\n",
    "accuracy_one=[accuracy]\n",
    "accuracy_one_test=[correct_percentage(test_in,test_out,W)]\n",
    "\n",
    "while consecutive_without_improvement < 15 and accuracy< 1.0:\n",
    "    for i , vec in enumerate(train_in):\n",
    "        vec = np.append(vec, 1) #adding the bias\n",
    "        out = vec.dot(W)  #calculating the output\n",
    "        out = np.array([g(a) for a in out]) #applying the activation function \n",
    "\n",
    "        d = np.zeros(10)\n",
    "        d[int(train_out[i])] = 1\n",
    "\n",
    "        error = (d - out) \n",
    "        delta_W = eta * np.outer(vec, error)\n",
    "    \n",
    "        W += delta_W #updating the weights  \n",
    "    \n",
    "    accuracy = correct_percentage(train_in,train_out,W)\n",
    "    accuracy_one.append(accuracy)      #saving the accuracy of the training set for plotting\n",
    "    accuracy_one_test.append(correct_percentage(test_in,test_out,W)) #saving the accuracy of the testing set \n",
    "                                                                     #only for plotting, we can't use that \n",
    "                                                                     #because we don't have access to the \n",
    "                                                                     #testing set while training    \n",
    "\n",
    "    if (accuracy > best_accuracy):\n",
    "        best_W = np.copy(W)  #keeping the weights that give the best accuracy over the training set\n",
    "        best_accuracy = accuracy  #keeping the best accuracy to compare it with the new ones\n",
    "        consecutive_without_improvement = 0  #resetting the number of consecutive loops without improvement\n",
    "        \n",
    "    else:\n",
    "        consecutive_without_improvement += 1  #increase the number of consecutive without improvement if accuracy \n",
    "                                             #isn't better than the best accuracy\n",
    "    \n",
    "if consecutive_without_improvement > 0:                       #delete the elements after the one with  \n",
    "    del accuracy_one[-consecutive_without_improvement:]       #the best accuracy\n",
    "    del accuracy_one_test[-consecutive_without_improvement:] \n",
    "\n",
    "W_one = best_W   #saving the best weights \n",
    "RunningTime_one=time.time()-t0  #saving the training time\n",
    "print('Training time: %.3f seconds' %RunningTime_one )"
   ]
  },
  {
   "cell_type": "code",
   "execution_count": 9,
   "metadata": {},
   "outputs": [
    {
     "data": {
      "image/png": "[encoded data removed]",
      "text/plain": [
       "<Figure size 640x480 with 1 Axes>"
      ]
     },
     "metadata": {},
     "output_type": "display_data"
    }
   ],
   "source": [
    "plt.title('Comparing the Accuracy of the two implementations')\n",
    "plt.plot(accuracy_whole,label='Training Set (Whole Dataset Method)')\n",
    "plt.plot(accuracy_one,label='Training Set (Inputs one by one Method)')\n",
    "plt.plot(accuracy_whole_test,label='Testing Set (Whole Dataset Method)')\n",
    "plt.plot(accuracy_one_test,label='Testing Set (Inputs one by one Method)')\n",
    "plt.legend()\n",
    "plt.grid()\n",
    "plt.xlabel('Number of times trained over the whole dataset')\n",
    "plt.ylabel('Accuracy')\n",
    "plt.savefig('accuracy.png')\n",
    "plt.show()"
   ]
  },
  {
   "cell_type": "markdown",
   "metadata": {},
   "source": [
    "## Finding the accuracy "
   ]
  },
  {
   "cell_type": "markdown",
   "metadata": {},
   "source": [
    "### When training with the whole dataset"
   ]
  },
  {
   "cell_type": "code",
   "execution_count": 10,
   "metadata": {},
   "outputs": [],
   "source": [
    "predictions_train=predictions(train_in,W_whole)"
   ]
  },
  {
   "cell_type": "code",
   "execution_count": 11,
   "metadata": {},
   "outputs": [
    {
     "name": "stdout",
     "output_type": "stream",
     "text": [
      "Performance of the perceptron on the traing set\n",
      "Correct: 1683\n",
      "Incorrect: 24\n",
      "Percentage: 98.594%\n"
     ]
    }
   ],
   "source": [
    "correct = 0\n",
    "incorrect = 0\n",
    "for i in range(len(train_out)):\n",
    "    if predictions_train[i] == train_out[i]:\n",
    "        correct += 1\n",
    "    else:\n",
    "        incorrect += 1\n",
    "\n",
    "percentage_train_whole=correct/(correct + incorrect)\n",
    "\n",
    "print(\"Performance of the perceptron on the traing set\")\n",
    "print(\"Correct: \" + str(correct))\n",
    "print(\"Incorrect: \" + str(incorrect))\n",
    "print(\"Percentage: \" + str(round(correct/(correct + incorrect)*100,3))+'%')"
   ]
  },
  {
   "cell_type": "code",
   "execution_count": 12,
   "metadata": {
    "scrolled": true
   },
   "outputs": [
    {
     "name": "stdout",
     "output_type": "stream",
     "text": [
      "Confusion matrix on training set\n",
      "[[318   0   0   0   0   1   0   0   0   0]\n",
      " [  0 252   0   0   0   0   0   0   0   0]\n",
      " [  0   0 196   1   1   1   1   1   1   0]\n",
      " [  0   0   1 126   1   2   0   0   1   0]\n",
      " [  0   0   0   0 120   0   0   1   1   0]\n",
      " [  0   0   0   1   0  86   0   0   1   0]\n",
      " [  0   0   0   0   1   0 150   0   0   0]\n",
      " [  0   0   1   0   0   1   0 163   1   0]\n",
      " [  0   0   0   0   1   1   0   0 142   0]\n",
      " [  0   0   0   0   0   0   0   1   1 130]]\n"
     ]
    }
   ],
   "source": [
    "train_confusion=confusion_matrix(train_out, predictions_train)\n",
    "print('Confusion matrix on training set')\n",
    "print(train_confusion)"
   ]
  },
  {
   "cell_type": "code",
   "execution_count": 13,
   "metadata": {},
   "outputs": [],
   "source": [
    "predictions_test=predictions(test_in,W_whole)"
   ]
  },
  {
   "cell_type": "code",
   "execution_count": 14,
   "metadata": {},
   "outputs": [
    {
     "name": "stdout",
     "output_type": "stream",
     "text": [
      "Performance of the perceptron on the traing set\n",
      "Correct: 881\n",
      "Incorrect: 119\n",
      "Percentage: 88.1%\n"
     ]
    }
   ],
   "source": [
    "correct = 0\n",
    "incorrect = 0\n",
    "for i in range(len(test_out)):\n",
    "    if predictions_test[i] == test_out[i]:\n",
    "        correct += 1\n",
    "    else:\n",
    "        incorrect += 1\n",
    "\n",
    "percentage_test_whole=correct/(correct + incorrect)        \n",
    "\n",
    "print(\"Performance of the perceptron on the traing set\")\n",
    "print(\"Correct: \" + str(correct))\n",
    "print(\"Incorrect: \" + str(incorrect))\n",
    "print(\"Percentage: \" + str(round(correct/(correct + incorrect)*100,3))+'%')"
   ]
  },
  {
   "cell_type": "code",
   "execution_count": 15,
   "metadata": {
    "scrolled": true
   },
   "outputs": [
    {
     "name": "stdout",
     "output_type": "stream",
     "text": [
      "Confusion matrix on testing set\n",
      "[[214   0   4   1   3   0   0   0   1   1]\n",
      " [  0 117   0   0   1   0   2   0   0   1]\n",
      " [  2   0  83   2   5   0   1   2   6   0]\n",
      " [  1   0   2  63   0   5   0   2   4   2]\n",
      " [  2   1   2   1  66   2   2   4   1   5]\n",
      " [  3   0   0   5   2  41   1   1   0   2]\n",
      " [  3   0   0   0   2   1  84   0   0   0]\n",
      " [  0   0   1   1   3   0   0  56   0   3]\n",
      " [  3   0   1   4   1   4   1   1  76   1]\n",
      " [  0   1   0   0   1   0   0   3   2  81]]\n"
     ]
    }
   ],
   "source": [
    "test_confusion=confusion_matrix(test_out, predictions_test)\n",
    "print('Confusion matrix on testing set')\n",
    "print(test_confusion)"
   ]
  },
  {
   "cell_type": "code",
   "execution_count": 16,
   "metadata": {},
   "outputs": [
    {
     "name": "stdout",
     "output_type": "stream",
     "text": [
      "digit = 0 , accuracy = 0.955\n",
      "digit = 1 , accuracy = 0.967\n",
      "digit = 2 , accuracy = 0.822\n",
      "digit = 3 , accuracy = 0.797\n",
      "digit = 4 , accuracy = 0.767\n",
      "digit = 5 , accuracy = 0.745\n",
      "digit = 6 , accuracy = 0.933\n",
      "digit = 7 , accuracy = 0.875\n",
      "digit = 8 , accuracy = 0.826\n",
      "digit = 9 , accuracy = 0.920\n"
     ]
    }
   ],
   "source": [
    "for i in range(10):\n",
    "    a=test_confusion[i][i]/np.sum(test_confusion[i][:])\n",
    "    print('digit = %d , accuracy = %.3f'%(i,a))"
   ]
  },
  {
   "cell_type": "markdown",
   "metadata": {},
   "source": [
    "### When training with each element one by one"
   ]
  },
  {
   "cell_type": "code",
   "execution_count": 17,
   "metadata": {},
   "outputs": [],
   "source": [
    "predictions_train_one=predictions(train_in,W_one)"
   ]
  },
  {
   "cell_type": "code",
   "execution_count": 18,
   "metadata": {},
   "outputs": [
    {
     "name": "stdout",
     "output_type": "stream",
     "text": [
      "Performance of the perceptron on the traing set\n",
      "Correct: 1707\n",
      "Incorrect: 0\n",
      "Percentage: 100.0%\n"
     ]
    }
   ],
   "source": [
    "correct = 0\n",
    "incorrect = 0\n",
    "for i in range(len(train_out)):\n",
    "    if predictions_train_one[i] == train_out[i]:\n",
    "        correct += 1\n",
    "    else:\n",
    "        incorrect += 1\n",
    "\n",
    "percentage_train_one=correct/(correct + incorrect)\n",
    "        \n",
    "print(\"Performance of the perceptron on the traing set\")\n",
    "print(\"Correct: \" + str(correct))\n",
    "print(\"Incorrect: \" + str(incorrect))\n",
    "print(\"Percentage: \" + str(round(correct/(correct + incorrect)*100,3))+'%')"
   ]
  },
  {
   "cell_type": "code",
   "execution_count": 19,
   "metadata": {
    "scrolled": true
   },
   "outputs": [
    {
     "name": "stdout",
     "output_type": "stream",
     "text": [
      "Confusion matrix on training set\n",
      "[[319   0   0   0   0   0   0   0   0   0]\n",
      " [  0 252   0   0   0   0   0   0   0   0]\n",
      " [  0   0 202   0   0   0   0   0   0   0]\n",
      " [  0   0   0 131   0   0   0   0   0   0]\n",
      " [  0   0   0   0 122   0   0   0   0   0]\n",
      " [  0   0   0   0   0  88   0   0   0   0]\n",
      " [  0   0   0   0   0   0 151   0   0   0]\n",
      " [  0   0   0   0   0   0   0 166   0   0]\n",
      " [  0   0   0   0   0   0   0   0 144   0]\n",
      " [  0   0   0   0   0   0   0   0   0 132]]\n"
     ]
    }
   ],
   "source": [
    "train_confusion_one=confusion_matrix(train_out, predictions_train_one)\n",
    "print('Confusion matrix on training set')\n",
    "print(train_confusion_one)"
   ]
  },
  {
   "cell_type": "code",
   "execution_count": 20,
   "metadata": {},
   "outputs": [],
   "source": [
    "predictions_test_one=predictions(test_in,W_one)"
   ]
  },
  {
   "cell_type": "code",
   "execution_count": 21,
   "metadata": {},
   "outputs": [
    {
     "name": "stdout",
     "output_type": "stream",
     "text": [
      "Performance of the perceptron on the traing set\n",
      "Correct: 872\n",
      "Incorrect: 128\n",
      "Percentage: 87.2%\n"
     ]
    }
   ],
   "source": [
    "correct = 0\n",
    "incorrect = 0\n",
    "for i in range(len(test_out)):\n",
    "    if predictions_test_one[i] == test_out[i]:\n",
    "        correct += 1\n",
    "    else:\n",
    "        incorrect += 1\n",
    "\n",
    "percentage_test_one=correct/(correct + incorrect)        \n",
    "        \n",
    "print(\"Performance of the perceptron on the traing set\")\n",
    "print(\"Correct: \" + str(correct))\n",
    "print(\"Incorrect: \" + str(incorrect))\n",
    "print(\"Percentage: \" + str(round(correct/(correct + incorrect)*100,3))+'%')"
   ]
  },
  {
   "cell_type": "code",
   "execution_count": 22,
   "metadata": {
    "scrolled": true
   },
   "outputs": [
    {
     "name": "stdout",
     "output_type": "stream",
     "text": [
      "Confusion matrix on testing set\n",
      "[[215   0   2   0   3   0   2   0   1   1]\n",
      " [  0 117   0   0   1   0   2   0   0   1]\n",
      " [  1   0  83   4   3   0   1   1   8   0]\n",
      " [  2   0   3  67   0   1   0   1   3   2]\n",
      " [  3   2   4   0  63   3   3   1   1   6]\n",
      " [  3   0   0   3   3  41   0   2   0   3]\n",
      " [  1   0   0   0   2   4  83   0   0   0]\n",
      " [  0   1   1   0   4   0   0  55   0   3]\n",
      " [  3   2   2   4   2   1   1   3  72   2]\n",
      " [  0   2   1   0   2   0   0   5   2  76]]\n"
     ]
    }
   ],
   "source": [
    "test_confusion_one=confusion_matrix(test_out, predictions_test_one)\n",
    "print('Confusion matrix on testing set')\n",
    "print(test_confusion_one)"
   ]
  },
  {
   "cell_type": "code",
   "execution_count": 23,
   "metadata": {},
   "outputs": [
    {
     "name": "stdout",
     "output_type": "stream",
     "text": [
      "digit = 0 , accuracy = 0.960\n",
      "digit = 1 , accuracy = 0.967\n",
      "digit = 2 , accuracy = 0.822\n",
      "digit = 3 , accuracy = 0.848\n",
      "digit = 4 , accuracy = 0.733\n",
      "digit = 5 , accuracy = 0.745\n",
      "digit = 6 , accuracy = 0.922\n",
      "digit = 7 , accuracy = 0.859\n",
      "digit = 8 , accuracy = 0.783\n",
      "digit = 9 , accuracy = 0.864\n"
     ]
    }
   ],
   "source": [
    "for i in range(10):\n",
    "    a=test_confusion_one[i][i]/np.sum(test_confusion_one[i][:])\n",
    "    print('digit = %d , accuracy = %.3f'%(i,a))"
   ]
  },
  {
   "cell_type": "code",
   "execution_count": 24,
   "metadata": {},
   "outputs": [],
   "source": [
    "def printing_df(styler):\n",
    "    styler.hide_index()\n",
    "    styler.format(precision=3)\n",
    "    return styler"
   ]
  },
  {
   "cell_type": "code",
   "execution_count": 25,
   "metadata": {},
   "outputs": [
    {
     "data": {
      "text/html": [
       "<style type=\"text/css\">\n",
       "</style>\n",
       "<table id=\"T_24f3e_\">\n",
       "  <thead>\n",
       "    <tr>\n",
       "      <th class=\"col_heading level0 col0\" >Method</th>\n",
       "      <th class=\"col_heading level0 col1\" >Training Set Accuracy</th>\n",
       "      <th class=\"col_heading level0 col2\" >Testing Set Accuracy</th>\n",
       "      <th class=\"col_heading level0 col3\" >Running Time</th>\n",
       "    </tr>\n",
       "  </thead>\n",
       "  <tbody>\n",
       "    <tr>\n",
       "      <td id=\"T_24f3e_row0_col0\" class=\"data row0 col0\" >Whole dataset</td>\n",
       "      <td id=\"T_24f3e_row0_col1\" class=\"data row0 col1\" >0.986</td>\n",
       "      <td id=\"T_24f3e_row0_col2\" class=\"data row0 col2\" >0.881</td>\n",
       "      <td id=\"T_24f3e_row0_col3\" class=\"data row0 col3\" >5.222</td>\n",
       "    </tr>\n",
       "    <tr>\n",
       "      <td id=\"T_24f3e_row1_col0\" class=\"data row1 col0\" >One by one</td>\n",
       "      <td id=\"T_24f3e_row1_col1\" class=\"data row1 col1\" >1.000</td>\n",
       "      <td id=\"T_24f3e_row1_col2\" class=\"data row1 col2\" >0.872</td>\n",
       "      <td id=\"T_24f3e_row1_col3\" class=\"data row1 col3\" >9.639</td>\n",
       "    </tr>\n",
       "  </tbody>\n",
       "</table>\n"
      ],
      "text/plain": [
       "<pandas.io.formats.style.Styler at 0x7f1533bae3d0>"
      ]
     },
     "execution_count": 25,
     "metadata": {},
     "output_type": "execute_result"
    }
   ],
   "source": [
    "results=pd.DataFrame({'Method':['Whole dataset','One by one'],\n",
    "             'Training Set Accuracy':[percentage_train_whole,percentage_train_one],\n",
    "            'Testing Set Accuracy':[percentage_test_whole,percentage_test_one],\n",
    "            'Running Time':[RunningTime_whole,RunningTime_one]})\n",
    "\n",
    "results.style.pipe(printing_df)"
   ]
  }
 ],
 "metadata": {
  "deepnote": {},
  "deepnote_execution_queue": [],
  "deepnote_notebook_id": "e9356c1a485b42f4aade39f2cd9a8616",
  "kernelspec": {
   "display_name": "Python 3 (ipykernel)",
   "language": "python",
   "name": "python3"
  },
  "language_info": {
   "codemirror_mode": {
    "name": "ipython",
    "version": 3
   },
   "file_extension": ".py",
   "mimetype": "text/x-python",
   "name": "python",
   "nbconvert_exporter": "python",
   "pygments_lexer": "ipython3",
   "version": "3.7.13"
  }
 },
 "nbformat": 4,
 "nbformat_minor": 1
}
