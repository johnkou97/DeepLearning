{
 "cells": [
  {
   "cell_type": "code",
   "execution_count": null,
   "metadata": {
    "colab": {
     "base_uri": "https://localhost:8080/"
    },
    "id": "icPTc9HZkIxk",
    "outputId": "7f64a8c5-0d7b-4c50-d9d8-39857809677e"
   },
   "outputs": [
    {
     "name": "stdout",
     "output_type": "stream",
     "text": [
      "2.8.0\n",
      "2.8.0\n",
      "/device:GPU:0\n"
     ]
    },
    {
     "name": "stderr",
     "output_type": "stream",
     "text": [
      "2022-11-18 13:53:42.765985: I tensorflow/core/platform/cpu_feature_guard.cc:151] This TensorFlow binary is optimized with oneAPI Deep Neural Network Library (oneDNN) to use the following CPU instructions in performance-critical operations:  AVX2 FMA\n",
      "To enable them in other operations, rebuild TensorFlow with the appropriate compiler flags.\n",
      "2022-11-18 13:53:43.478975: I tensorflow/stream_executor/cuda/cuda_gpu_executor.cc:936] successful NUMA node read from SysFS had negative value (-1), but there must be at least one NUMA node, so returning NUMA node zero\n",
      "2022-11-18 13:53:43.504797: I tensorflow/stream_executor/cuda/cuda_gpu_executor.cc:936] successful NUMA node read from SysFS had negative value (-1), but there must be at least one NUMA node, so returning NUMA node zero\n",
      "2022-11-18 13:53:43.504944: I tensorflow/stream_executor/cuda/cuda_gpu_executor.cc:936] successful NUMA node read from SysFS had negative value (-1), but there must be at least one NUMA node, so returning NUMA node zero\n",
      "2022-11-18 13:53:44.048881: I tensorflow/stream_executor/cuda/cuda_gpu_executor.cc:936] successful NUMA node read from SysFS had negative value (-1), but there must be at least one NUMA node, so returning NUMA node zero\n",
      "2022-11-18 13:53:44.049016: I tensorflow/stream_executor/cuda/cuda_gpu_executor.cc:936] successful NUMA node read from SysFS had negative value (-1), but there must be at least one NUMA node, so returning NUMA node zero\n",
      "2022-11-18 13:53:44.049120: I tensorflow/stream_executor/cuda/cuda_gpu_executor.cc:936] successful NUMA node read from SysFS had negative value (-1), but there must be at least one NUMA node, so returning NUMA node zero\n",
      "2022-11-18 13:53:44.049417: I tensorflow/core/common_runtime/gpu/gpu_device.cc:1525] Created device /device:GPU:0 with 6147 MB memory:  -> device: 0, name: NVIDIA GeForce RTX 3060 Ti, pci bus id: 0000:2d:00.0, compute capability: 8.6\n"
     ]
    }
   ],
   "source": [
    "from __future__ import print_function\n",
    "\n",
    "import tensorflow as tf\n",
    "from tensorflow import keras\n",
    "print(tf.__version__)\n",
    "print(keras.__version__)\n",
    "print(tf.test.gpu_device_name())\n",
    "\n",
    "\n",
    "from keras.datasets import fashion_mnist, cifar10\n",
    "from keras.models import Sequential\n",
    "from tensorflow.keras.optimizers import RMSprop\n",
    "from keras.layers import Dense, Dropout, Flatten\n",
    "from keras.layers import Conv2D, MaxPooling2D\n",
    "from keras import backend as K"
   ]
  },
  {
   "cell_type": "markdown",
   "metadata": {
    "id": "AW3YpXsnRWZC"
   },
   "source": [
    "## Fashion MNIST"
   ]
  },
  {
   "cell_type": "markdown",
   "metadata": {
    "id": "qsIUKCR92o-z"
   },
   "source": [
    "Load and split the data (fashion MNIST)."
   ]
  },
  {
   "cell_type": "code",
   "execution_count": null,
   "metadata": {
    "colab": {
     "base_uri": "https://localhost:8080/"
    },
    "id": "_PsmC17fkhjs",
    "outputId": "e57dd3f4-9993-45d9-b9ad-b33016bbca83"
   },
   "outputs": [
    {
     "name": "stdout",
     "output_type": "stream",
     "text": [
      "Downloading data from https://storage.googleapis.com/tensorflow/tf-keras-datasets/train-labels-idx1-ubyte.gz\n",
      "32768/29515 [=================================] - 0s 1us/step\n",
      "40960/29515 [=========================================] - 0s 0us/step\n",
      "Downloading data from https://storage.googleapis.com/tensorflow/tf-keras-datasets/train-images-idx3-ubyte.gz\n",
      "26427392/26421880 [==============================] - 0s 0us/step\n",
      "26435584/26421880 [==============================] - 0s 0us/step\n",
      "Downloading data from https://storage.googleapis.com/tensorflow/tf-keras-datasets/t10k-labels-idx1-ubyte.gz\n",
      "16384/5148 [===============================================================================================] - 0s 0us/step\n",
      "Downloading data from https://storage.googleapis.com/tensorflow/tf-keras-datasets/t10k-images-idx3-ubyte.gz\n",
      "4423680/4422102 [==============================] - 0s 0us/step\n",
      "4431872/4422102 [==============================] - 0s 0us/step\n"
     ]
    }
   ],
   "source": [
    "# the data, split between train and test sets\n",
    "(X_train_full, y_train_full), (X_test, y_test) = fashion_mnist.load_data()\n",
    "\n",
    "X_valid, X_train = X_train_full[:5000] / 255.0, X_train_full[5000:] / 255.0\n",
    "y_valid, y_train = y_train_full[:5000], y_train_full[5000:]\n",
    "\n",
    "class_names = [\"T-shirt/top\", \"Trouser\", \"Pullover\", \"Dress\", \"Coat\",\n",
    " \"Sandal\", \"Shirt\", \"Sneaker\", \"Bag\", \"Ankle boot\"]"
   ]
  },
  {
   "cell_type": "markdown",
   "metadata": {
    "id": "4HeVGa5Y25RB"
   },
   "source": [
    "Train and evaluate an MLP."
   ]
  },
  {
   "cell_type": "code",
   "execution_count": null,
   "metadata": {
    "colab": {
     "base_uri": "https://localhost:8080/"
    },
    "id": "oFos1jzPpUx0",
    "outputId": "344056fb-3f65-47fd-de1b-b988bbe91390"
   },
   "outputs": [
    {
     "name": "stdout",
     "output_type": "stream",
     "text": [
      "Model: \"sequential\"\n",
      "_________________________________________________________________\n",
      " Layer (type)                Output Shape              Param #   \n",
      "=================================================================\n",
      " flatten (Flatten)           (None, 784)               0         \n",
      "                                                                 \n",
      " dense (Dense)               (None, 300)               235500    \n",
      "                                                                 \n",
      " dense_1 (Dense)             (None, 100)               30100     \n",
      "                                                                 \n",
      " dense_2 (Dense)             (None, 10)                1010      \n",
      "                                                                 \n",
      "=================================================================\n",
      "Total params: 266,610\n",
      "Trainable params: 266,610\n",
      "Non-trainable params: 0\n",
      "_________________________________________________________________\n",
      "Epoch 1/30\n"
     ]
    },
    {
     "name": "stderr",
     "output_type": "stream",
     "text": [
      "2022-11-18 13:55:27.725074: I tensorflow/stream_executor/cuda/cuda_gpu_executor.cc:936] successful NUMA node read from SysFS had negative value (-1), but there must be at least one NUMA node, so returning NUMA node zero\n",
      "2022-11-18 13:55:27.725334: I tensorflow/stream_executor/cuda/cuda_gpu_executor.cc:936] successful NUMA node read from SysFS had negative value (-1), but there must be at least one NUMA node, so returning NUMA node zero\n",
      "2022-11-18 13:55:27.725511: I tensorflow/stream_executor/cuda/cuda_gpu_executor.cc:936] successful NUMA node read from SysFS had negative value (-1), but there must be at least one NUMA node, so returning NUMA node zero\n",
      "2022-11-18 13:55:27.725932: I tensorflow/stream_executor/cuda/cuda_gpu_executor.cc:936] successful NUMA node read from SysFS had negative value (-1), but there must be at least one NUMA node, so returning NUMA node zero\n",
      "2022-11-18 13:55:27.726126: I tensorflow/stream_executor/cuda/cuda_gpu_executor.cc:936] successful NUMA node read from SysFS had negative value (-1), but there must be at least one NUMA node, so returning NUMA node zero\n",
      "2022-11-18 13:55:27.726300: I tensorflow/stream_executor/cuda/cuda_gpu_executor.cc:936] successful NUMA node read from SysFS had negative value (-1), but there must be at least one NUMA node, so returning NUMA node zero\n",
      "2022-11-18 13:55:27.726523: I tensorflow/stream_executor/cuda/cuda_gpu_executor.cc:936] successful NUMA node read from SysFS had negative value (-1), but there must be at least one NUMA node, so returning NUMA node zero\n",
      "2022-11-18 13:55:27.726704: I tensorflow/stream_executor/cuda/cuda_gpu_executor.cc:936] successful NUMA node read from SysFS had negative value (-1), but there must be at least one NUMA node, so returning NUMA node zero\n",
      "2022-11-18 13:55:27.726839: I tensorflow/core/common_runtime/gpu/gpu_device.cc:1525] Created device /job:localhost/replica:0/task:0/device:GPU:0 with 6147 MB memory:  -> device: 0, name: NVIDIA GeForce RTX 3060 Ti, pci bus id: 0000:2d:00.0, compute capability: 8.6\n"
     ]
    },
    {
     "name": "stdout",
     "output_type": "stream",
     "text": [
      " 105/1719 [>.............................] - ETA: 2s - loss: 1.7412 - accuracy: 0.5065"
     ]
    },
    {
     "name": "stderr",
     "output_type": "stream",
     "text": [
      "2022-11-18 13:55:28.868497: I tensorflow/stream_executor/cuda/cuda_blas.cc:1786] TensorFloat-32 will be used for the matrix multiplication. This will only be logged once.\n"
     ]
    },
    {
     "name": "stdout",
     "output_type": "stream",
     "text": [
      "1719/1719 [==============================] - 4s 2ms/step - loss: 0.7337 - accuracy: 0.7620 - val_loss: 0.5075 - val_accuracy: 0.8318\n",
      "Epoch 2/30\n",
      "1719/1719 [==============================] - 3s 2ms/step - loss: 0.4858 - accuracy: 0.8316 - val_loss: 0.4436 - val_accuracy: 0.8524\n",
      "Epoch 3/30\n",
      "1719/1719 [==============================] - 3s 2ms/step - loss: 0.4391 - accuracy: 0.8461 - val_loss: 0.4352 - val_accuracy: 0.8486\n",
      "Epoch 4/30\n",
      "1719/1719 [==============================] - 3s 1ms/step - loss: 0.4110 - accuracy: 0.8566 - val_loss: 0.4041 - val_accuracy: 0.8620\n",
      "Epoch 5/30\n",
      "1719/1719 [==============================] - 3s 2ms/step - loss: 0.3920 - accuracy: 0.8627 - val_loss: 0.3880 - val_accuracy: 0.8680\n",
      "Epoch 6/30\n",
      "1719/1719 [==============================] - 3s 2ms/step - loss: 0.3767 - accuracy: 0.8673 - val_loss: 0.3769 - val_accuracy: 0.8674\n",
      "Epoch 7/30\n",
      "1719/1719 [==============================] - 3s 2ms/step - loss: 0.3620 - accuracy: 0.8718 - val_loss: 0.3708 - val_accuracy: 0.8684\n",
      "Epoch 8/30\n",
      "1719/1719 [==============================] - 3s 2ms/step - loss: 0.3526 - accuracy: 0.8751 - val_loss: 0.3895 - val_accuracy: 0.8606\n",
      "Epoch 9/30\n",
      "1719/1719 [==============================] - 3s 2ms/step - loss: 0.3425 - accuracy: 0.8791 - val_loss: 0.3514 - val_accuracy: 0.8788\n",
      "Epoch 10/30\n",
      "1719/1719 [==============================] - 3s 2ms/step - loss: 0.3337 - accuracy: 0.8810 - val_loss: 0.3461 - val_accuracy: 0.8766\n",
      "Epoch 11/30\n",
      "1719/1719 [==============================] - 3s 2ms/step - loss: 0.3241 - accuracy: 0.8849 - val_loss: 0.3386 - val_accuracy: 0.8824\n",
      "Epoch 12/30\n",
      "1719/1719 [==============================] - 3s 2ms/step - loss: 0.3172 - accuracy: 0.8871 - val_loss: 0.3295 - val_accuracy: 0.8834\n",
      "Epoch 13/30\n",
      "1719/1719 [==============================] - 3s 2ms/step - loss: 0.3095 - accuracy: 0.8899 - val_loss: 0.3307 - val_accuracy: 0.8836\n",
      "Epoch 14/30\n",
      "1719/1719 [==============================] - 3s 2ms/step - loss: 0.3026 - accuracy: 0.8918 - val_loss: 0.3368 - val_accuracy: 0.8746\n",
      "Epoch 15/30\n",
      "1719/1719 [==============================] - 3s 2ms/step - loss: 0.2961 - accuracy: 0.8926 - val_loss: 0.3185 - val_accuracy: 0.8866\n",
      "Epoch 16/30\n",
      "1719/1719 [==============================] - 3s 2ms/step - loss: 0.2908 - accuracy: 0.8952 - val_loss: 0.3326 - val_accuracy: 0.8858\n",
      "Epoch 17/30\n",
      "1719/1719 [==============================] - 3s 2ms/step - loss: 0.2844 - accuracy: 0.8990 - val_loss: 0.3373 - val_accuracy: 0.8796\n",
      "Epoch 18/30\n",
      "1719/1719 [==============================] - 3s 2ms/step - loss: 0.2784 - accuracy: 0.9007 - val_loss: 0.3354 - val_accuracy: 0.8800\n",
      "Epoch 19/30\n",
      "1719/1719 [==============================] - 3s 2ms/step - loss: 0.2734 - accuracy: 0.9008 - val_loss: 0.3144 - val_accuracy: 0.8874\n",
      "Epoch 20/30\n",
      "1719/1719 [==============================] - 3s 2ms/step - loss: 0.2686 - accuracy: 0.9024 - val_loss: 0.3271 - val_accuracy: 0.8780\n",
      "Epoch 21/30\n",
      "1719/1719 [==============================] - 3s 2ms/step - loss: 0.2632 - accuracy: 0.9051 - val_loss: 0.3213 - val_accuracy: 0.8876\n",
      "Epoch 22/30\n",
      "1719/1719 [==============================] - 3s 2ms/step - loss: 0.2584 - accuracy: 0.9066 - val_loss: 0.3108 - val_accuracy: 0.8888\n",
      "Epoch 23/30\n",
      "1719/1719 [==============================] - 3s 2ms/step - loss: 0.2547 - accuracy: 0.9073 - val_loss: 0.3094 - val_accuracy: 0.8876\n",
      "Epoch 24/30\n",
      "1719/1719 [==============================] - 3s 2ms/step - loss: 0.2499 - accuracy: 0.9094 - val_loss: 0.3048 - val_accuracy: 0.8892\n",
      "Epoch 25/30\n",
      "1719/1719 [==============================] - 3s 2ms/step - loss: 0.2467 - accuracy: 0.9104 - val_loss: 0.3039 - val_accuracy: 0.8898\n",
      "Epoch 26/30\n",
      "1719/1719 [==============================] - 3s 2ms/step - loss: 0.2422 - accuracy: 0.9121 - val_loss: 0.2984 - val_accuracy: 0.8900\n",
      "Epoch 27/30\n",
      "1719/1719 [==============================] - 3s 2ms/step - loss: 0.2381 - accuracy: 0.9123 - val_loss: 0.3077 - val_accuracy: 0.8868\n",
      "Epoch 28/30\n",
      "1719/1719 [==============================] - 3s 1ms/step - loss: 0.2347 - accuracy: 0.9162 - val_loss: 0.2991 - val_accuracy: 0.8912\n",
      "Epoch 29/30\n",
      "1719/1719 [==============================] - 3s 1ms/step - loss: 0.2302 - accuracy: 0.9165 - val_loss: 0.3145 - val_accuracy: 0.8898\n",
      "Epoch 30/30\n",
      "1719/1719 [==============================] - 2s 1ms/step - loss: 0.2267 - accuracy: 0.9183 - val_loss: 0.2970 - val_accuracy: 0.8880\n",
      "Test loss: 58.70557403564453\n",
      "Test accuracy: 0.8526999950408936\n"
     ]
    }
   ],
   "source": [
    "model = keras.models.Sequential()\n",
    "model.add(keras.layers.Flatten(input_shape=[28, 28]))\n",
    "model.add(keras.layers.Dense(300, activation=\"relu\"))\n",
    "model.add(keras.layers.Dense(100, activation=\"relu\"))\n",
    "model.add(keras.layers.Dense(10, activation=\"softmax\"))\n",
    "\n",
    "model.summary()\n",
    "\n",
    "model.compile(loss=\"sparse_categorical_crossentropy\", optimizer='sgd', metrics=[\"accuracy\"])\n",
    "\n",
    "history = model.fit(X_train, y_train, epochs=30, validation_data=(X_valid, y_valid))\n",
    "\n",
    "score = model.evaluate(X_test, y_test, verbose=0)\n",
    "print('Test loss:', score[0])\n",
    "print('Test accuracy:', score[1])"
   ]
  },
  {
   "cell_type": "code",
   "execution_count": null,
   "metadata": {
    "id": "aJutqqeppgUa"
   },
   "outputs": [],
   "source": [
    "num_classes = 10\n",
    "# convert class vectors to binary class matrices\n",
    "y_train = keras.utils.to_categorical(y_train, num_classes)\n",
    "y_test = keras.utils.to_categorical(y_test, num_classes)\n",
    "y_valid = keras.utils.to_categorical(y_valid, num_classes)"
   ]
  },
  {
   "cell_type": "markdown",
   "metadata": {
    "id": "ZSdpL-WzmO2N"
   },
   "source": [
    "Train and evaluate a CNN."
   ]
  },
  {
   "cell_type": "code",
   "execution_count": null,
   "metadata": {
    "colab": {
     "base_uri": "https://localhost:8080/"
    },
    "id": "dK64p40npiKw",
    "outputId": "7c283003-b97e-4f90-a5b7-e452d7e16b98"
   },
   "outputs": [
    {
     "name": "stdout",
     "output_type": "stream",
     "text": [
      "Model: \"sequential_1\"\n",
      "_________________________________________________________________\n",
      " Layer (type)                Output Shape              Param #   \n",
      "=================================================================\n",
      " conv2d (Conv2D)             (None, 28, 28, 64)        3200      \n",
      "                                                                 \n",
      " max_pooling2d (MaxPooling2D  (None, 14, 14, 64)       0         \n",
      " )                                                               \n",
      "                                                                 \n",
      " conv2d_1 (Conv2D)           (None, 14, 14, 128)       73856     \n",
      "                                                                 \n",
      " conv2d_2 (Conv2D)           (None, 14, 14, 128)       147584    \n",
      "                                                                 \n",
      " max_pooling2d_1 (MaxPooling  (None, 7, 7, 128)        0         \n",
      " 2D)                                                             \n",
      "                                                                 \n",
      " conv2d_3 (Conv2D)           (None, 7, 7, 256)         295168    \n",
      "                                                                 \n",
      " conv2d_4 (Conv2D)           (None, 7, 7, 256)         590080    \n",
      "                                                                 \n",
      " max_pooling2d_2 (MaxPooling  (None, 3, 3, 256)        0         \n",
      " 2D)                                                             \n",
      "                                                                 \n",
      " flatten_1 (Flatten)         (None, 2304)              0         \n",
      "                                                                 \n",
      " dense_3 (Dense)             (None, 128)               295040    \n",
      "                                                                 \n",
      " dropout (Dropout)           (None, 128)               0         \n",
      "                                                                 \n",
      " dense_4 (Dense)             (None, 64)                8256      \n",
      "                                                                 \n",
      " dropout_1 (Dropout)         (None, 64)                0         \n",
      "                                                                 \n",
      " dense_5 (Dense)             (None, 10)                650       \n",
      "                                                                 \n",
      "=================================================================\n",
      "Total params: 1,413,834\n",
      "Trainable params: 1,413,834\n",
      "Non-trainable params: 0\n",
      "_________________________________________________________________\n",
      "Epoch 1/12\n"
     ]
    },
    {
     "name": "stderr",
     "output_type": "stream",
     "text": [
      "2022-11-18 13:57:04.719365: I tensorflow/stream_executor/cuda/cuda_dnn.cc:368] Loaded cuDNN version 8100\n",
      "2022-11-18 13:57:05.382326: I tensorflow/core/platform/default/subprocess.cc:304] Start cannot spawn child process: No such file or directory\n",
      "2022-11-18 13:57:05.382980: I tensorflow/core/platform/default/subprocess.cc:304] Start cannot spawn child process: No such file or directory\n",
      "2022-11-18 13:57:05.382990: W tensorflow/stream_executor/gpu/asm_compiler.cc:80] Couldn't get ptxas version string: INTERNAL: Couldn't invoke ptxas --version\n",
      "2022-11-18 13:57:05.383373: I tensorflow/core/platform/default/subprocess.cc:304] Start cannot spawn child process: No such file or directory\n",
      "2022-11-18 13:57:05.383404: W tensorflow/stream_executor/gpu/redzone_allocator.cc:314] INTERNAL: Failed to launch ptxas\n",
      "Relying on driver to perform ptx compilation. \n",
      "Modify $PATH to customize ptxas location.\n",
      "This message will be only logged once.\n"
     ]
    },
    {
     "name": "stdout",
     "output_type": "stream",
     "text": [
      "430/430 [==============================] - 7s 10ms/step - loss: 0.9299 - accuracy: 0.6601 - val_loss: 0.3681 - val_accuracy: 0.8642\n",
      "Epoch 2/12\n",
      "430/430 [==============================] - 4s 10ms/step - loss: 0.4421 - accuracy: 0.8499 - val_loss: 0.3342 - val_accuracy: 0.8818\n",
      "Epoch 3/12\n",
      "430/430 [==============================] - 4s 9ms/step - loss: 0.3557 - accuracy: 0.8787 - val_loss: 0.2794 - val_accuracy: 0.9040\n",
      "Epoch 4/12\n",
      "430/430 [==============================] - 4s 9ms/step - loss: 0.3173 - accuracy: 0.8953 - val_loss: 0.2857 - val_accuracy: 0.9036\n",
      "Epoch 5/12\n",
      "430/430 [==============================] - 4s 9ms/step - loss: 0.2918 - accuracy: 0.9030 - val_loss: 0.2912 - val_accuracy: 0.8932\n",
      "Epoch 6/12\n",
      "430/430 [==============================] - 4s 9ms/step - loss: 0.2747 - accuracy: 0.9098 - val_loss: 0.2663 - val_accuracy: 0.9096\n",
      "Epoch 7/12\n",
      "430/430 [==============================] - 4s 9ms/step - loss: 0.2662 - accuracy: 0.9124 - val_loss: 0.3404 - val_accuracy: 0.9086\n",
      "Epoch 8/12\n",
      "430/430 [==============================] - 4s 9ms/step - loss: 0.2587 - accuracy: 0.9146 - val_loss: 0.2631 - val_accuracy: 0.9036\n",
      "Epoch 9/12\n",
      "430/430 [==============================] - 4s 9ms/step - loss: 0.2625 - accuracy: 0.9154 - val_loss: 0.2698 - val_accuracy: 0.9084\n",
      "Epoch 10/12\n",
      "430/430 [==============================] - 4s 9ms/step - loss: 0.2610 - accuracy: 0.9149 - val_loss: 0.2705 - val_accuracy: 0.9102\n",
      "Epoch 11/12\n",
      "430/430 [==============================] - 4s 9ms/step - loss: 0.2630 - accuracy: 0.9151 - val_loss: 0.2922 - val_accuracy: 0.9052\n",
      "Epoch 12/12\n",
      "430/430 [==============================] - 4s 9ms/step - loss: 0.2684 - accuracy: 0.9154 - val_loss: 0.3709 - val_accuracy: 0.8934\n",
      "Test loss: 160699.296875\n",
      "Test accuracy: 0.2152000069618225\n"
     ]
    }
   ],
   "source": [
    "model = keras.models.Sequential([\n",
    "  keras.layers.Conv2D(64, 7, activation=\"relu\", padding=\"same\",\n",
    "  input_shape=[28, 28, 1]),\n",
    "  keras.layers.MaxPooling2D(2),\n",
    "  keras.layers.Conv2D(128, 3, activation=\"relu\", padding=\"same\"),\n",
    "  keras.layers.Conv2D(128, 3, activation=\"relu\", padding=\"same\"),\n",
    "  keras.layers.MaxPooling2D(2),\n",
    "  keras.layers.Conv2D(256, 3, activation=\"relu\", padding=\"same\"),\n",
    "  keras.layers.Conv2D(256, 3, activation=\"relu\", padding=\"same\"),\n",
    "  keras.layers.MaxPooling2D(2),\n",
    "  keras.layers.Flatten(),\n",
    "  keras.layers.Dense(128, activation=\"relu\"),\n",
    "  keras.layers.Dropout(0.5),\n",
    "  keras.layers.Dense(64, activation=\"relu\"),\n",
    "  keras.layers.Dropout(0.5),\n",
    "  keras.layers.Dense(10, activation=\"softmax\")\n",
    "])\n",
    "\n",
    "model.summary()\n",
    "\n",
    "model.compile(loss=keras.losses.categorical_crossentropy,\n",
    "              optimizer=keras.optimizers.RMSprop(),\n",
    "              metrics=['accuracy'])\n",
    "\n",
    "model.fit(X_train, y_train,\n",
    "          batch_size=128,\n",
    "          epochs=12,\n",
    "          verbose=1,\n",
    "          validation_data=(X_valid, y_valid))\n",
    "score = model.evaluate(X_test, y_test, verbose=0)\n",
    "print('Test loss:', score[0])\n",
    "print('Test accuracy:', score[1])"
   ]
  },
  {
   "cell_type": "markdown",
   "metadata": {
    "id": "iyiG9r4TRZyA"
   },
   "source": [
    "### CIFAR-10"
   ]
  },
  {
   "cell_type": "code",
   "execution_count": null,
   "metadata": {
    "id": "QjbUWCQXpnSO"
   },
   "outputs": [],
   "source": [
    "# the data, split between train and test sets\n",
    "(X_train_full, y_train_full), (X_test, y_test) = cifar10.load_data()\n",
    "\n",
    "X_valid, X_train = X_train_full[:5000] / 255.0, X_train_full[5000:] / 255.0\n",
    "y_valid, y_train = y_train_full[:5000], y_train_full[5000:]\n",
    "\n",
    "class_names = [\"airplane\", \"automobile\", \"bird\", \"cat\", \"deer\", \"dog\", \"frog\", \"horse\", \"ship\", \"truck\"]"
   ]
  },
  {
   "cell_type": "code",
   "execution_count": null,
   "metadata": {
    "colab": {
     "base_uri": "https://localhost:8080/"
    },
    "id": "4nEc4WE63Lq5",
    "outputId": "7a5e7c45-c16a-4b19-e3f8-8d88dc619ac6"
   },
   "outputs": [
    {
     "name": "stdout",
     "output_type": "stream",
     "text": [
      "Model: \"sequential_13\"\n",
      "_________________________________________________________________\n",
      " Layer (type)                Output Shape              Param #   \n",
      "=================================================================\n",
      " flatten_13 (Flatten)        (None, 3072)              0         \n",
      "                                                                 \n",
      " dense_41 (Dense)            (None, 300)               921900    \n",
      "                                                                 \n",
      " dense_42 (Dense)            (None, 100)               30100     \n",
      "                                                                 \n",
      " dense_43 (Dense)            (None, 10)                1010      \n",
      "                                                                 \n",
      "=================================================================\n",
      "Total params: 953,010\n",
      "Trainable params: 953,010\n",
      "Non-trainable params: 0\n",
      "_________________________________________________________________\n",
      "Epoch 1/30\n",
      "1407/1407 [==============================] - 5s 3ms/step - loss: 1.8844 - accuracy: 0.3224 - val_loss: 2.0321 - val_accuracy: 0.3108\n",
      "Epoch 2/30\n",
      "1407/1407 [==============================] - 4s 3ms/step - loss: 1.7014 - accuracy: 0.3939 - val_loss: 1.6978 - val_accuracy: 0.3844\n",
      "Epoch 3/30\n",
      "1407/1407 [==============================] - 4s 3ms/step - loss: 1.6187 - accuracy: 0.4259 - val_loss: 1.6475 - val_accuracy: 0.4052\n",
      "Epoch 4/30\n",
      "1407/1407 [==============================] - 4s 3ms/step - loss: 1.5647 - accuracy: 0.4444 - val_loss: 2.0238 - val_accuracy: 0.2866\n",
      "Epoch 5/30\n",
      "1407/1407 [==============================] - 4s 3ms/step - loss: 1.5222 - accuracy: 0.4578 - val_loss: 1.5921 - val_accuracy: 0.4256\n",
      "Epoch 6/30\n",
      "1407/1407 [==============================] - 5s 3ms/step - loss: 1.4854 - accuracy: 0.4735 - val_loss: 1.5465 - val_accuracy: 0.4474\n",
      "Epoch 7/30\n",
      "1407/1407 [==============================] - 4s 3ms/step - loss: 1.4552 - accuracy: 0.4832 - val_loss: 1.5541 - val_accuracy: 0.4384\n",
      "Epoch 8/30\n",
      "1407/1407 [==============================] - 4s 3ms/step - loss: 1.4267 - accuracy: 0.4928 - val_loss: 1.6921 - val_accuracy: 0.3908\n",
      "Epoch 9/30\n",
      "1407/1407 [==============================] - 4s 3ms/step - loss: 1.4016 - accuracy: 0.5044 - val_loss: 1.5157 - val_accuracy: 0.4654\n",
      "Epoch 10/30\n",
      "1407/1407 [==============================] - 4s 3ms/step - loss: 1.3768 - accuracy: 0.5105 - val_loss: 1.5946 - val_accuracy: 0.4282\n",
      "Epoch 11/30\n",
      "1407/1407 [==============================] - 4s 3ms/step - loss: 1.3547 - accuracy: 0.5178 - val_loss: 1.6662 - val_accuracy: 0.4038\n",
      "Epoch 12/30\n",
      "1407/1407 [==============================] - 4s 3ms/step - loss: 1.3361 - accuracy: 0.5270 - val_loss: 1.6169 - val_accuracy: 0.4320\n",
      "Epoch 13/30\n",
      "1407/1407 [==============================] - 4s 3ms/step - loss: 1.3147 - accuracy: 0.5344 - val_loss: 1.4478 - val_accuracy: 0.4970\n",
      "Epoch 14/30\n",
      "1407/1407 [==============================] - 4s 3ms/step - loss: 1.2961 - accuracy: 0.5417 - val_loss: 1.4302 - val_accuracy: 0.4956\n",
      "Epoch 15/30\n",
      "1407/1407 [==============================] - 4s 3ms/step - loss: 1.2782 - accuracy: 0.5455 - val_loss: 1.5514 - val_accuracy: 0.4618\n",
      "Epoch 16/30\n",
      "1407/1407 [==============================] - 5s 3ms/step - loss: 1.2593 - accuracy: 0.5548 - val_loss: 1.4819 - val_accuracy: 0.4716\n",
      "Epoch 17/30\n",
      "1407/1407 [==============================] - 4s 3ms/step - loss: 1.2427 - accuracy: 0.5606 - val_loss: 1.6066 - val_accuracy: 0.4468\n",
      "Epoch 18/30\n",
      "1407/1407 [==============================] - 4s 3ms/step - loss: 1.2274 - accuracy: 0.5648 - val_loss: 1.4177 - val_accuracy: 0.5086\n",
      "Epoch 19/30\n",
      "1407/1407 [==============================] - 4s 3ms/step - loss: 1.2111 - accuracy: 0.5730 - val_loss: 1.4462 - val_accuracy: 0.4996\n",
      "Epoch 20/30\n",
      "1407/1407 [==============================] - 4s 3ms/step - loss: 1.1939 - accuracy: 0.5762 - val_loss: 1.4219 - val_accuracy: 0.5016\n",
      "Epoch 21/30\n",
      "1407/1407 [==============================] - 4s 3ms/step - loss: 1.1785 - accuracy: 0.5812 - val_loss: 1.4162 - val_accuracy: 0.5064\n",
      "Epoch 22/30\n",
      "1407/1407 [==============================] - 4s 3ms/step - loss: 1.1632 - accuracy: 0.5885 - val_loss: 1.4170 - val_accuracy: 0.5078\n",
      "Epoch 23/30\n",
      "1407/1407 [==============================] - 4s 3ms/step - loss: 1.1496 - accuracy: 0.5952 - val_loss: 1.5406 - val_accuracy: 0.4754\n",
      "Epoch 24/30\n",
      "1407/1407 [==============================] - 4s 3ms/step - loss: 1.1337 - accuracy: 0.5986 - val_loss: 1.4544 - val_accuracy: 0.4968\n",
      "Epoch 25/30\n",
      "1407/1407 [==============================] - 4s 3ms/step - loss: 1.1196 - accuracy: 0.6039 - val_loss: 1.3825 - val_accuracy: 0.5210\n",
      "Epoch 26/30\n",
      "1407/1407 [==============================] - 4s 3ms/step - loss: 1.1071 - accuracy: 0.6082 - val_loss: 1.4673 - val_accuracy: 0.4912\n",
      "Epoch 27/30\n",
      "1407/1407 [==============================] - 4s 3ms/step - loss: 1.0947 - accuracy: 0.6125 - val_loss: 1.4059 - val_accuracy: 0.5194\n",
      "Epoch 28/30\n",
      "1407/1407 [==============================] - 4s 3ms/step - loss: 1.0827 - accuracy: 0.6190 - val_loss: 1.4898 - val_accuracy: 0.4858\n",
      "Epoch 29/30\n",
      "1407/1407 [==============================] - 4s 3ms/step - loss: 1.0695 - accuracy: 0.6218 - val_loss: 1.3803 - val_accuracy: 0.5300\n",
      "Epoch 30/30\n",
      "1407/1407 [==============================] - 4s 3ms/step - loss: 1.0532 - accuracy: 0.6269 - val_loss: 1.6102 - val_accuracy: 0.4784\n",
      "Test loss: 477.0137939453125\n",
      "Test accuracy: 0.3833000063896179\n"
     ]
    }
   ],
   "source": [
    "model = keras.models.Sequential()\n",
    "model.add(keras.layers.Flatten(input_shape=[32, 32, 3]))\n",
    "model.add(keras.layers.Dense(300, activation=\"relu\"))\n",
    "model.add(keras.layers.Dense(100, activation=\"relu\"))\n",
    "model.add(keras.layers.Dense(10, activation=\"softmax\"))\n",
    "\n",
    "model.summary()\n",
    "\n",
    "model.compile(loss=\"sparse_categorical_crossentropy\", optimizer='sgd', metrics=[\"accuracy\"])\n",
    "\n",
    "history = model.fit(X_train, y_train, epochs=30, validation_data=(X_valid, y_valid))\n",
    "\n",
    "score = model.evaluate(X_test, y_test, verbose=0)\n",
    "print('Test loss:', score[0])\n",
    "print('Test accuracy:', score[1])"
   ]
  },
  {
   "cell_type": "code",
   "execution_count": null,
   "metadata": {
    "id": "eNkmaLXz-waq"
   },
   "outputs": [],
   "source": [
    "num_classes = 10\n",
    "# convert class vectors to binary class matrices\n",
    "y_train = keras.utils.to_categorical(y_train, num_classes)\n",
    "y_test = keras.utils.to_categorical(y_test, num_classes)\n",
    "y_valid = keras.utils.to_categorical(y_valid, num_classes)"
   ]
  },
  {
   "cell_type": "code",
   "execution_count": null,
   "metadata": {
    "colab": {
     "base_uri": "https://localhost:8080/"
    },
    "id": "YYtoNBhi-0Fw",
    "outputId": "fee7f418-828d-424f-f347-a073b30ad927"
   },
   "outputs": [
    {
     "name": "stdout",
     "output_type": "stream",
     "text": [
      "Model: \"sequential_18\"\n",
      "_________________________________________________________________\n",
      " Layer (type)                Output Shape              Param #   \n",
      "=================================================================\n",
      " conv2d_40 (Conv2D)          (None, 32, 32, 64)        9472      \n",
      "                                                                 \n",
      " max_pooling2d_24 (MaxPoolin  (None, 16, 16, 64)       0         \n",
      " g2D)                                                            \n",
      "                                                                 \n",
      " conv2d_41 (Conv2D)          (None, 16, 16, 128)       73856     \n",
      "                                                                 \n",
      " conv2d_42 (Conv2D)          (None, 16, 16, 128)       147584    \n",
      "                                                                 \n",
      " max_pooling2d_25 (MaxPoolin  (None, 8, 8, 128)        0         \n",
      " g2D)                                                            \n",
      "                                                                 \n",
      " conv2d_43 (Conv2D)          (None, 8, 8, 256)         295168    \n",
      "                                                                 \n",
      " conv2d_44 (Conv2D)          (None, 8, 8, 256)         590080    \n",
      "                                                                 \n",
      " max_pooling2d_26 (MaxPoolin  (None, 4, 4, 256)        0         \n",
      " g2D)                                                            \n",
      "                                                                 \n",
      " flatten_18 (Flatten)        (None, 4096)              0         \n",
      "                                                                 \n",
      " dense_56 (Dense)            (None, 128)               524416    \n",
      "                                                                 \n",
      " dropout_16 (Dropout)        (None, 128)               0         \n",
      "                                                                 \n",
      " dense_57 (Dense)            (None, 64)                8256      \n",
      "                                                                 \n",
      " dropout_17 (Dropout)        (None, 64)                0         \n",
      "                                                                 \n",
      " dense_58 (Dense)            (None, 10)                650       \n",
      "                                                                 \n",
      "=================================================================\n",
      "Total params: 1,649,482\n",
      "Trainable params: 1,649,482\n",
      "Non-trainable params: 0\n",
      "_________________________________________________________________\n",
      "Epoch 1/12\n",
      "352/352 [==============================] - 9s 22ms/step - loss: 2.3103 - accuracy: 0.1234 - val_loss: 2.0729 - val_accuracy: 0.2304\n",
      "Epoch 2/12\n",
      "352/352 [==============================] - 7s 21ms/step - loss: 1.9503 - accuracy: 0.2778 - val_loss: 1.6319 - val_accuracy: 0.3878\n",
      "Epoch 3/12\n",
      "352/352 [==============================] - 8s 22ms/step - loss: 1.6453 - accuracy: 0.4043 - val_loss: 1.3764 - val_accuracy: 0.5026\n",
      "Epoch 4/12\n",
      "352/352 [==============================] - 8s 22ms/step - loss: 1.4474 - accuracy: 0.4851 - val_loss: 1.3646 - val_accuracy: 0.5186\n",
      "Epoch 5/12\n",
      "352/352 [==============================] - 7s 21ms/step - loss: 1.3006 - accuracy: 0.5501 - val_loss: 1.2174 - val_accuracy: 0.5824\n",
      "Epoch 6/12\n",
      "352/352 [==============================] - 8s 22ms/step - loss: 1.1791 - accuracy: 0.5969 - val_loss: 1.0759 - val_accuracy: 0.6354\n",
      "Epoch 7/12\n",
      "352/352 [==============================] - 7s 21ms/step - loss: 1.0765 - accuracy: 0.6373 - val_loss: 1.0325 - val_accuracy: 0.6508\n",
      "Epoch 8/12\n",
      "352/352 [==============================] - 8s 21ms/step - loss: 0.9870 - accuracy: 0.6702 - val_loss: 1.0814 - val_accuracy: 0.6542\n",
      "Epoch 9/12\n",
      "352/352 [==============================] - 8s 22ms/step - loss: 0.9173 - accuracy: 0.6968 - val_loss: 0.9585 - val_accuracy: 0.6926\n",
      "Epoch 10/12\n",
      "352/352 [==============================] - 8s 23ms/step - loss: 0.8525 - accuracy: 0.7206 - val_loss: 0.9413 - val_accuracy: 0.6878\n",
      "Epoch 11/12\n",
      "352/352 [==============================] - 8s 22ms/step - loss: 0.8018 - accuracy: 0.7360 - val_loss: 0.9552 - val_accuracy: 0.6926\n",
      "Epoch 12/12\n",
      "352/352 [==============================] - 8s 21ms/step - loss: 0.7609 - accuracy: 0.7525 - val_loss: 0.9320 - val_accuracy: 0.7082\n",
      "Test loss: 174.31903076171875\n",
      "Test accuracy: 0.5449000000953674\n"
     ]
    }
   ],
   "source": [
    "model = keras.models.Sequential([\n",
    "  keras.layers.Conv2D(64, 7, activation=\"relu\", padding=\"same\",\n",
    "  input_shape=[32, 32, 3]),\n",
    "  keras.layers.MaxPooling2D(2),\n",
    "  keras.layers.Conv2D(128, 3, activation=\"relu\", padding=\"same\"),\n",
    "  keras.layers.Conv2D(128, 3, activation=\"relu\", padding=\"same\"),\n",
    "  keras.layers.MaxPooling2D(2),\n",
    "  keras.layers.Conv2D(256, 3, activation=\"relu\", padding=\"same\"),\n",
    "  keras.layers.Conv2D(256, 3, activation=\"relu\", padding=\"same\"),\n",
    "  keras.layers.MaxPooling2D(2),\n",
    "  keras.layers.Flatten(),\n",
    "  keras.layers.Dense(128, activation=\"relu\", kernel_initializer=tf.keras.initializers.HeNormal(seed=None)),\n",
    "  keras.layers.Dropout(0.5),\n",
    "  keras.layers.Dense(64, activation=\"relu\", kernel_initializer=tf.keras.initializers.HeNormal(seed=None)),\n",
    "  keras.layers.Dropout(0.5),\n",
    "  keras.layers.Dense(10, activation=\"softmax\", kernel_initializer=tf.keras.initializers.HeNormal(seed=None))\n",
    "])\n",
    "\n",
    "model.summary()\n",
    "\n",
    "model.compile(loss=keras.losses.categorical_crossentropy,\n",
    "              optimizer=keras.optimizers.RMSprop(),\n",
    "              metrics=['accuracy'])\n",
    "\n",
    "model.fit(X_train, y_train,\n",
    "          batch_size=128,\n",
    "          epochs=12,\n",
    "          verbose=1,\n",
    "          validation_data=(X_valid, y_valid))\n",
    "score = model.evaluate(X_test, y_test, verbose=0)\n",
    "print('Test loss:', score[0])\n",
    "print('Test accuracy:', score[1])"
   ]
  }
 ],
 "metadata": {
  "accelerator": "GPU",
  "colab": {
   "provenance": []
  },
  "gpuClass": "standard",
  "kernelspec": {
   "display_name": "Python 3 (ipykernel)",
   "language": "python",
   "name": "python3"
  },
  "language_info": {
   "codemirror_mode": {
    "name": "ipython",
    "version": 3
   },
   "file_extension": ".py",
   "mimetype": "text/x-python",
   "name": "python",
   "nbconvert_exporter": "python",
   "pygments_lexer": "ipython3",
   "version": "3.9.12"
  }
 },
 "nbformat": 4,
 "nbformat_minor": 1
}
